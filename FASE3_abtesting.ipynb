{
 "cells": [
  {
   "cell_type": "markdown",
   "metadata": {},
   "source": [
    "### Fase 3: Evaluación de Diferencias en Reservas de Vuelos por Nivel Educativo"
   ]
  },
  {
   "cell_type": "code",
   "execution_count": 13,
   "metadata": {},
   "outputs": [],
   "source": [
    "# Tratamiento de datos\n",
    "# -----------------------------------------------------------------------\n",
    "import pandas as pd\n",
    "import numpy as np\n",
    "\n",
    "# Visualización\n",
    "# ------------------------------------------------------------------------------\n",
    "import matplotlib.pyplot as plt\n",
    "import seaborn as sns\n",
    "\n",
    "# Evaluar linealidad de las relaciones entre las variables\n",
    "# y la distribución de las variables\n",
    "# ------------------------------------------------------------------------------\n",
    "from scipy.stats import shapiro,  poisson, chisquare, expon, kstest\n",
    "from scipy import stats\n",
    "from scipy.stats import mannwhitneyu\n",
    "\n",
    "# Configuración\n",
    "# -----------------------------------------------------------------------\n",
    "pd.set_option('display.max_columns', None) # para poder visualizar todas las columnas de los DataFrames\n",
    "\n",
    "# Gestión de los warnings\n",
    "# -----------------------------------------------------------------------\n",
    "import warnings\n",
    "warnings.filterwarnings(\"ignore\")"
   ]
  },
  {
   "cell_type": "code",
   "execution_count": 4,
   "metadata": {},
   "outputs": [
    {
     "data": {
      "text/html": [
       "<div>\n",
       "<style scoped>\n",
       "    .dataframe tbody tr th:only-of-type {\n",
       "        vertical-align: middle;\n",
       "    }\n",
       "\n",
       "    .dataframe tbody tr th {\n",
       "        vertical-align: top;\n",
       "    }\n",
       "\n",
       "    .dataframe thead th {\n",
       "        text-align: right;\n",
       "    }\n",
       "</style>\n",
       "<table border=\"1\" class=\"dataframe\">\n",
       "  <thead>\n",
       "    <tr style=\"text-align: right;\">\n",
       "      <th></th>\n",
       "      <th>Unnamed: 0</th>\n",
       "      <th>loyalty number</th>\n",
       "      <th>year</th>\n",
       "      <th>month</th>\n",
       "      <th>flights booked</th>\n",
       "      <th>flights with companions</th>\n",
       "      <th>total flights</th>\n",
       "      <th>distance</th>\n",
       "      <th>points accumulated</th>\n",
       "      <th>points redeemed</th>\n",
       "      <th>dollar cost points redeemed</th>\n",
       "      <th>country</th>\n",
       "      <th>province</th>\n",
       "      <th>city</th>\n",
       "      <th>postal code</th>\n",
       "      <th>gender</th>\n",
       "      <th>education</th>\n",
       "      <th>marital status</th>\n",
       "      <th>loyalty card</th>\n",
       "      <th>enrollment type</th>\n",
       "      <th>enrollment year</th>\n",
       "      <th>enrollment month</th>\n",
       "      <th>cancellation year</th>\n",
       "      <th>cancellation month</th>\n",
       "      <th>salary</th>\n",
       "    </tr>\n",
       "  </thead>\n",
       "  <tbody>\n",
       "    <tr>\n",
       "      <th>0</th>\n",
       "      <td>0</td>\n",
       "      <td>480934</td>\n",
       "      <td>2017</td>\n",
       "      <td>1</td>\n",
       "      <td>0</td>\n",
       "      <td>0</td>\n",
       "      <td>0</td>\n",
       "      <td>0</td>\n",
       "      <td>0</td>\n",
       "      <td>0</td>\n",
       "      <td>0.0</td>\n",
       "      <td>Canada</td>\n",
       "      <td>Ontario</td>\n",
       "      <td>Toronto</td>\n",
       "      <td>M2Z 4K1</td>\n",
       "      <td>Female</td>\n",
       "      <td>Bachelor</td>\n",
       "      <td>Married</td>\n",
       "      <td>Star</td>\n",
       "      <td>Standard</td>\n",
       "      <td>2016</td>\n",
       "      <td>2</td>\n",
       "      <td>NaN</td>\n",
       "      <td>NaN</td>\n",
       "      <td>83236.0</td>\n",
       "    </tr>\n",
       "  </tbody>\n",
       "</table>\n",
       "</div>"
      ],
      "text/plain": [
       "   Unnamed: 0  loyalty number  year  month  flights booked  \\\n",
       "0           0          480934  2017      1               0   \n",
       "\n",
       "   flights with companions  total flights  distance  points accumulated  \\\n",
       "0                        0              0         0                   0   \n",
       "\n",
       "   points redeemed  dollar cost points redeemed country province     city  \\\n",
       "0                0                          0.0  Canada  Ontario  Toronto   \n",
       "\n",
       "  postal code  gender education marital status loyalty card enrollment type  \\\n",
       "0     M2Z 4K1  Female  Bachelor        Married         Star        Standard   \n",
       "\n",
       "   enrollment year  enrollment month  cancellation year  cancellation month  \\\n",
       "0             2016                 2                NaN                 NaN   \n",
       "\n",
       "    salary  \n",
       "0  83236.0  "
      ]
     },
     "execution_count": 4,
     "metadata": {},
     "output_type": "execute_result"
    }
   ],
   "source": [
    "df = pd.read_csv('customertotal.csv')\n",
    "df.head(1)"
   ]
  },
  {
   "cell_type": "markdown",
   "metadata": {},
   "source": [
    "1. Preparación de datos:"
   ]
  },
  {
   "cell_type": "code",
   "execution_count": 5,
   "metadata": {},
   "outputs": [
    {
     "data": {
      "text/html": [
       "<div>\n",
       "<style scoped>\n",
       "    .dataframe tbody tr th:only-of-type {\n",
       "        vertical-align: middle;\n",
       "    }\n",
       "\n",
       "    .dataframe tbody tr th {\n",
       "        vertical-align: top;\n",
       "    }\n",
       "\n",
       "    .dataframe thead th {\n",
       "        text-align: right;\n",
       "    }\n",
       "</style>\n",
       "<table border=\"1\" class=\"dataframe\">\n",
       "  <thead>\n",
       "    <tr style=\"text-align: right;\">\n",
       "      <th></th>\n",
       "      <th>flights booked</th>\n",
       "      <th>education</th>\n",
       "    </tr>\n",
       "  </thead>\n",
       "  <tbody>\n",
       "    <tr>\n",
       "      <th>0</th>\n",
       "      <td>0</td>\n",
       "      <td>Bachelor</td>\n",
       "    </tr>\n",
       "    <tr>\n",
       "      <th>1</th>\n",
       "      <td>3</td>\n",
       "      <td>Bachelor</td>\n",
       "    </tr>\n",
       "    <tr>\n",
       "      <th>2</th>\n",
       "      <td>0</td>\n",
       "      <td>Bachelor</td>\n",
       "    </tr>\n",
       "    <tr>\n",
       "      <th>3</th>\n",
       "      <td>0</td>\n",
       "      <td>Bachelor</td>\n",
       "    </tr>\n",
       "    <tr>\n",
       "      <th>4</th>\n",
       "      <td>6</td>\n",
       "      <td>Bachelor</td>\n",
       "    </tr>\n",
       "    <tr>\n",
       "      <th>...</th>\n",
       "      <td>...</td>\n",
       "      <td>...</td>\n",
       "    </tr>\n",
       "    <tr>\n",
       "      <th>403755</th>\n",
       "      <td>0</td>\n",
       "      <td>Bachelor</td>\n",
       "    </tr>\n",
       "    <tr>\n",
       "      <th>403756</th>\n",
       "      <td>0</td>\n",
       "      <td>Bachelor</td>\n",
       "    </tr>\n",
       "    <tr>\n",
       "      <th>403757</th>\n",
       "      <td>0</td>\n",
       "      <td>Bachelor</td>\n",
       "    </tr>\n",
       "    <tr>\n",
       "      <th>403758</th>\n",
       "      <td>0</td>\n",
       "      <td>Bachelor</td>\n",
       "    </tr>\n",
       "    <tr>\n",
       "      <th>403759</th>\n",
       "      <td>0</td>\n",
       "      <td>Bachelor</td>\n",
       "    </tr>\n",
       "  </tbody>\n",
       "</table>\n",
       "<p>403760 rows × 2 columns</p>\n",
       "</div>"
      ],
      "text/plain": [
       "        flights booked education\n",
       "0                    0  Bachelor\n",
       "1                    3  Bachelor\n",
       "2                    0  Bachelor\n",
       "3                    0  Bachelor\n",
       "4                    6  Bachelor\n",
       "...                ...       ...\n",
       "403755               0  Bachelor\n",
       "403756               0  Bachelor\n",
       "403757               0  Bachelor\n",
       "403758               0  Bachelor\n",
       "403759               0  Bachelor\n",
       "\n",
       "[403760 rows x 2 columns]"
      ]
     },
     "execution_count": 5,
     "metadata": {},
     "output_type": "execute_result"
    }
   ],
   "source": [
    "df_3 = df[['flights booked', 'education']]\n",
    "df_3"
   ]
  },
  {
   "cell_type": "code",
   "execution_count": 6,
   "metadata": {},
   "outputs": [
    {
     "data": {
      "text/html": [
       "<div>\n",
       "<style scoped>\n",
       "    .dataframe tbody tr th:only-of-type {\n",
       "        vertical-align: middle;\n",
       "    }\n",
       "\n",
       "    .dataframe tbody tr th {\n",
       "        vertical-align: top;\n",
       "    }\n",
       "\n",
       "    .dataframe thead th {\n",
       "        text-align: right;\n",
       "    }\n",
       "</style>\n",
       "<table border=\"1\" class=\"dataframe\">\n",
       "  <thead>\n",
       "    <tr style=\"text-align: right;\">\n",
       "      <th></th>\n",
       "      <th>flights booked</th>\n",
       "      <th>education</th>\n",
       "      <th>education_nivel</th>\n",
       "    </tr>\n",
       "  </thead>\n",
       "  <tbody>\n",
       "    <tr>\n",
       "      <th>146723</th>\n",
       "      <td>0</td>\n",
       "      <td>College</td>\n",
       "      <td>inferior</td>\n",
       "    </tr>\n",
       "    <tr>\n",
       "      <th>245010</th>\n",
       "      <td>4</td>\n",
       "      <td>High School or Below</td>\n",
       "      <td>inferior</td>\n",
       "    </tr>\n",
       "    <tr>\n",
       "      <th>293900</th>\n",
       "      <td>7</td>\n",
       "      <td>Bachelor</td>\n",
       "      <td>superior</td>\n",
       "    </tr>\n",
       "    <tr>\n",
       "      <th>192144</th>\n",
       "      <td>1</td>\n",
       "      <td>Bachelor</td>\n",
       "      <td>superior</td>\n",
       "    </tr>\n",
       "    <tr>\n",
       "      <th>237990</th>\n",
       "      <td>15</td>\n",
       "      <td>College</td>\n",
       "      <td>inferior</td>\n",
       "    </tr>\n",
       "    <tr>\n",
       "      <th>105734</th>\n",
       "      <td>0</td>\n",
       "      <td>Bachelor</td>\n",
       "      <td>superior</td>\n",
       "    </tr>\n",
       "    <tr>\n",
       "      <th>312118</th>\n",
       "      <td>0</td>\n",
       "      <td>Master</td>\n",
       "      <td>superior</td>\n",
       "    </tr>\n",
       "    <tr>\n",
       "      <th>362064</th>\n",
       "      <td>0</td>\n",
       "      <td>Doctor</td>\n",
       "      <td>superior</td>\n",
       "    </tr>\n",
       "    <tr>\n",
       "      <th>65305</th>\n",
       "      <td>0</td>\n",
       "      <td>Bachelor</td>\n",
       "      <td>superior</td>\n",
       "    </tr>\n",
       "    <tr>\n",
       "      <th>94088</th>\n",
       "      <td>0</td>\n",
       "      <td>College</td>\n",
       "      <td>inferior</td>\n",
       "    </tr>\n",
       "  </tbody>\n",
       "</table>\n",
       "</div>"
      ],
      "text/plain": [
       "        flights booked             education education_nivel\n",
       "146723               0               College        inferior\n",
       "245010               4  High School or Below        inferior\n",
       "293900               7              Bachelor        superior\n",
       "192144               1              Bachelor        superior\n",
       "237990              15               College        inferior\n",
       "105734               0              Bachelor        superior\n",
       "312118               0                Master        superior\n",
       "362064               0                Doctor        superior\n",
       "65305                0              Bachelor        superior\n",
       "94088                0               College        inferior"
      ]
     },
     "execution_count": 6,
     "metadata": {},
     "output_type": "execute_result"
    }
   ],
   "source": [
    "# superior: 'Doctor', 'Master', 'Bachelor'\n",
    "# inferior: 'College', 'High school or below'\n",
    "df_3['education_nivel'] = np.where(df_3['education'].isin(['Doctor', 'Master', 'Bachelor']), 'superior', 'inferior')\n",
    "df_3.sample(10)"
   ]
  },
  {
   "cell_type": "markdown",
   "metadata": {},
   "source": [
    "2. Análisis Descriptivo:"
   ]
  },
  {
   "cell_type": "code",
   "execution_count": 7,
   "metadata": {},
   "outputs": [
    {
     "data": {
      "text/html": [
       "<div>\n",
       "<style scoped>\n",
       "    .dataframe tbody tr th:only-of-type {\n",
       "        vertical-align: middle;\n",
       "    }\n",
       "\n",
       "    .dataframe tbody tr th {\n",
       "        vertical-align: top;\n",
       "    }\n",
       "\n",
       "    .dataframe thead th {\n",
       "        text-align: right;\n",
       "    }\n",
       "</style>\n",
       "<table border=\"1\" class=\"dataframe\">\n",
       "  <thead>\n",
       "    <tr style=\"text-align: right;\">\n",
       "      <th></th>\n",
       "      <th>count</th>\n",
       "      <th>mean</th>\n",
       "      <th>std</th>\n",
       "      <th>min</th>\n",
       "      <th>25%</th>\n",
       "      <th>50%</th>\n",
       "      <th>75%</th>\n",
       "      <th>max</th>\n",
       "    </tr>\n",
       "    <tr>\n",
       "      <th>education_nivel</th>\n",
       "      <th></th>\n",
       "      <th></th>\n",
       "      <th></th>\n",
       "      <th></th>\n",
       "      <th></th>\n",
       "      <th></th>\n",
       "      <th></th>\n",
       "      <th></th>\n",
       "    </tr>\n",
       "  </thead>\n",
       "  <tbody>\n",
       "    <tr>\n",
       "      <th>inferior</th>\n",
       "      <td>121175.0</td>\n",
       "      <td>4.170753</td>\n",
       "      <td>5.244962</td>\n",
       "      <td>0.0</td>\n",
       "      <td>0.0</td>\n",
       "      <td>1.0</td>\n",
       "      <td>8.0</td>\n",
       "      <td>21.0</td>\n",
       "    </tr>\n",
       "    <tr>\n",
       "      <th>superior</th>\n",
       "      <td>282585.0</td>\n",
       "      <td>4.118311</td>\n",
       "      <td>5.223592</td>\n",
       "      <td>0.0</td>\n",
       "      <td>0.0</td>\n",
       "      <td>1.0</td>\n",
       "      <td>8.0</td>\n",
       "      <td>21.0</td>\n",
       "    </tr>\n",
       "  </tbody>\n",
       "</table>\n",
       "</div>"
      ],
      "text/plain": [
       "                    count      mean       std  min  25%  50%  75%   max\n",
       "education_nivel                                                        \n",
       "inferior         121175.0  4.170753  5.244962  0.0  0.0  1.0  8.0  21.0\n",
       "superior         282585.0  4.118311  5.223592  0.0  0.0  1.0  8.0  21.0"
      ]
     },
     "execution_count": 7,
     "metadata": {},
     "output_type": "execute_result"
    }
   ],
   "source": [
    "df_3.groupby('education_nivel')['flights booked'].describe()"
   ]
  },
  {
   "cell_type": "code",
   "execution_count": 17,
   "metadata": {},
   "outputs": [],
   "source": [
    "df_inferior = df_3[df_3['education_nivel'] == 'inferior']\n",
    "df_superior = df_3[df_3['education_nivel'] == 'superior']"
   ]
  },
  {
   "cell_type": "code",
   "execution_count": 8,
   "metadata": {},
   "outputs": [
    {
     "data": {
      "text/html": [
       "<div>\n",
       "<style scoped>\n",
       "    .dataframe tbody tr th:only-of-type {\n",
       "        vertical-align: middle;\n",
       "    }\n",
       "\n",
       "    .dataframe tbody tr th {\n",
       "        vertical-align: top;\n",
       "    }\n",
       "\n",
       "    .dataframe thead th {\n",
       "        text-align: right;\n",
       "    }\n",
       "</style>\n",
       "<table border=\"1\" class=\"dataframe\">\n",
       "  <thead>\n",
       "    <tr style=\"text-align: right;\">\n",
       "      <th></th>\n",
       "      <th>count</th>\n",
       "      <th>mean</th>\n",
       "      <th>std</th>\n",
       "      <th>min</th>\n",
       "      <th>25%</th>\n",
       "      <th>50%</th>\n",
       "      <th>75%</th>\n",
       "      <th>max</th>\n",
       "    </tr>\n",
       "    <tr>\n",
       "      <th>education</th>\n",
       "      <th></th>\n",
       "      <th></th>\n",
       "      <th></th>\n",
       "      <th></th>\n",
       "      <th></th>\n",
       "      <th></th>\n",
       "      <th></th>\n",
       "      <th></th>\n",
       "    </tr>\n",
       "  </thead>\n",
       "  <tbody>\n",
       "    <tr>\n",
       "      <th>Bachelor</th>\n",
       "      <td>252567.0</td>\n",
       "      <td>4.110288</td>\n",
       "      <td>5.221671</td>\n",
       "      <td>0.0</td>\n",
       "      <td>0.0</td>\n",
       "      <td>1.0</td>\n",
       "      <td>8.0</td>\n",
       "      <td>21.0</td>\n",
       "    </tr>\n",
       "    <tr>\n",
       "      <th>College</th>\n",
       "      <td>102260.0</td>\n",
       "      <td>4.169744</td>\n",
       "      <td>5.246040</td>\n",
       "      <td>0.0</td>\n",
       "      <td>0.0</td>\n",
       "      <td>1.0</td>\n",
       "      <td>8.0</td>\n",
       "      <td>21.0</td>\n",
       "    </tr>\n",
       "    <tr>\n",
       "      <th>Doctor</th>\n",
       "      <td>17731.0</td>\n",
       "      <td>4.175512</td>\n",
       "      <td>5.256971</td>\n",
       "      <td>0.0</td>\n",
       "      <td>0.0</td>\n",
       "      <td>1.0</td>\n",
       "      <td>8.0</td>\n",
       "      <td>21.0</td>\n",
       "    </tr>\n",
       "    <tr>\n",
       "      <th>High School or Below</th>\n",
       "      <td>18915.0</td>\n",
       "      <td>4.176209</td>\n",
       "      <td>5.239267</td>\n",
       "      <td>0.0</td>\n",
       "      <td>0.0</td>\n",
       "      <td>1.0</td>\n",
       "      <td>8.0</td>\n",
       "      <td>21.0</td>\n",
       "    </tr>\n",
       "    <tr>\n",
       "      <th>Master</th>\n",
       "      <td>12287.0</td>\n",
       "      <td>4.200700</td>\n",
       "      <td>5.213956</td>\n",
       "      <td>0.0</td>\n",
       "      <td>0.0</td>\n",
       "      <td>1.0</td>\n",
       "      <td>8.0</td>\n",
       "      <td>21.0</td>\n",
       "    </tr>\n",
       "  </tbody>\n",
       "</table>\n",
       "</div>"
      ],
      "text/plain": [
       "                         count      mean       std  min  25%  50%  75%   max\n",
       "education                                                                   \n",
       "Bachelor              252567.0  4.110288  5.221671  0.0  0.0  1.0  8.0  21.0\n",
       "College               102260.0  4.169744  5.246040  0.0  0.0  1.0  8.0  21.0\n",
       "Doctor                 17731.0  4.175512  5.256971  0.0  0.0  1.0  8.0  21.0\n",
       "High School or Below   18915.0  4.176209  5.239267  0.0  0.0  1.0  8.0  21.0\n",
       "Master                 12287.0  4.200700  5.213956  0.0  0.0  1.0  8.0  21.0"
      ]
     },
     "execution_count": 8,
     "metadata": {},
     "output_type": "execute_result"
    }
   ],
   "source": [
    "df_3.groupby('education')['flights booked'].describe()"
   ]
  },
  {
   "cell_type": "markdown",
   "metadata": {},
   "source": [
    "Las medias y la desviación son casi iguales, al iguales que los percentiles."
   ]
  },
  {
   "cell_type": "code",
   "execution_count": 9,
   "metadata": {},
   "outputs": [
    {
     "data": {
      "image/png": "[encoded data removed]",
      "text/plain": [
       "<Figure size 432x288 with 1 Axes>"
      ]
     },
     "metadata": {
      "needs_background": "light"
     },
     "output_type": "display_data"
    }
   ],
   "source": [
    "sns.barplot(x = \"education\", y = \"flights booked\", data = df_3, palette = \"magma\")\n",
    "plt.xticks(rotation = 80);"
   ]
  },
  {
   "cell_type": "code",
   "execution_count": 10,
   "metadata": {},
   "outputs": [
    {
     "data": {
      "image/png": "[encoded data removed]",
      "text/plain": [
       "<Figure size 432x288 with 1 Axes>"
      ]
     },
     "metadata": {
      "needs_background": "light"
     },
     "output_type": "display_data"
    }
   ],
   "source": [
    "sns.barplot(x = \"education_nivel\", y = \"flights booked\", data = df_3, palette = \"magma\");"
   ]
  },
  {
   "cell_type": "markdown",
   "metadata": {},
   "source": [
    "3. Prueba Estadística:"
   ]
  },
  {
   "cell_type": "markdown",
   "metadata": {},
   "source": [
    "Hipótesis nula = No hay diferencia en el número de vuelos según el nivel educativo de los pasajeros.\n",
    "\n",
    "Hipótesis alternativa = Si hay diferencia"
   ]
  },
  {
   "cell_type": "markdown",
   "metadata": {},
   "source": [
    "COMPROBANDO LA NORMALIDAD Y CON MANWHITNEY"
   ]
  },
  {
   "cell_type": "code",
   "execution_count": 12,
   "metadata": {},
   "outputs": [
    {
     "name": "stdout",
     "output_type": "stream",
     "text": [
      "Los datos no se ajustan a una distribución normal (p-value = 0.0 )\n"
     ]
    }
   ],
   "source": [
    "p_value = kstest(df_3['flights booked'], \"norm\").pvalue\n",
    "\n",
    "alpha = 0.05\n",
    "if p_value > alpha:\n",
    "    print(\"Los datos se ajustan a una distribución normal (p-value =\", p_value, \")\")\n",
    "else:\n",
    "    print(\"Los datos no se ajustan a una distribución normal (p-value =\", p_value, \")\")"
   ]
  },
  {
   "cell_type": "markdown",
   "metadata": {},
   "source": [
    "Ya no haria falta calcular la homogeneidad, no sigue una distribución normal (gaussiana)"
   ]
  },
  {
   "cell_type": "code",
   "execution_count": 19,
   "metadata": {},
   "outputs": [
    {
     "name": "stdout",
     "output_type": "stream",
     "text": [
      "El p_value es 0.002942081262120518 es menor a 0.05. Hay diferencias significativas\n"
     ]
    }
   ],
   "source": [
    "statistic, p_value = mannwhitneyu(df_inferior['flights booked'],df_superior ['flights booked'])\n",
    "if p_value < 0.05: \n",
    "    print(f'El p_value es {p_value} es menor a 0.05. Hay diferencias significativas')\n",
    "else: \n",
    "    print(f'El p_value es {p_value} es mayor a 0.05. No hay diferencias significativas')"
   ]
  },
  {
   "cell_type": "markdown",
   "metadata": {},
   "source": [
    "El nivel de estudios si afecta a la compra de billetes"
   ]
  },
  {
   "cell_type": "markdown",
   "metadata": {},
   "source": [
    "UTILIZANDO LEVENE Y TSTUDENT"
   ]
  },
  {
   "cell_type": "code",
   "execution_count": null,
   "metadata": {},
   "outputs": [],
   "source": [
    "# El t-test es una prueba estadística que se utiliza para comparar dos grupos y determinar si hay una diferencia significativa entre ellos en términos de una variable que estamos midiendo.\n",
    "#La prueba de Levene se utiliza para verificar si las varianzas de dos o más grupos son iguales o diferentes. \n",
    "#La hipótesis nula (H0) es que las varianzas son iguales en todos los grupos, mientras que la hipótesis alternativa (H1) es que al menos una de las varianzas es diferente.\n",
    "#Es necesaria para realizar el T-student\n",
    "\n",
    "def prueba_hipotesis(*args):\n",
    "    \n",
    "    # lo primero que tenemos que hacer es mirar si las varianzas son iguales o no\n",
    "    \n",
    "    p_valor_varianza = stats.levene(*args, center = \"median\")[1]\n",
    "   \n",
    "    if p_valor_varianza > 0.05:\n",
    "        # realizamos la prueba t de Student\n",
    "        t_stat, p_valor = stats.ttest_ind(*args, equal_var=True)\n",
    "    else:\n",
    "        t_stat, p_valor = stats.ttest_ind(*args, equal_var=False)\n",
    "        \n",
    "    # Establecemos un nivel de significancia (alfa)\n",
    "    alfa = 0.05\n",
    "\n",
    "    # comparamos el p-valor con el nivel de significancia\n",
    "    if p_valor < alfa:\n",
    "        print(\"Rechazamos la hipótesis nula.\")\n",
    "        print(\"Hay una diferencia significativa entre los dos grupos.\")\n",
    "    else:\n",
    "        print(\"No podemos rechazar la hipótesis nula.\")\n",
    "        print(\"No hay evidencia suficiente para afirmar una diferencia significativa entre los dos grupos.\")"
   ]
  },
  {
   "cell_type": "code",
   "execution_count": null,
   "metadata": {},
   "outputs": [
    {
     "name": "stdout",
     "output_type": "stream",
     "text": [
      "Rechazamos la hipótesis nula.\n",
      "Hay una diferencia significativa entre los dos grupos.\n"
     ]
    }
   ],
   "source": [
    "# filtramos los datos para obtener dos grupos: educación básica 4 años y educación secundaria\n",
    "superior = df_3[df_3['education_nivel'] == 'superior'][\"flights booked\"]\n",
    "inferior = df_3[df_3['education_nivel'] == 'inferior'][\"flights booked\"]\n",
    "\n",
    "# llamamos a la función que hemos creado\n",
    "prueba_hipotesis(superior, inferior )\n"
   ]
  },
  {
   "cell_type": "markdown",
   "metadata": {},
   "source": [
    "Por lo tanto, el nivel de estudios si afecta en la compra de billetes."
   ]
  }
 ],
 "metadata": {
  "kernelspec": {
   "display_name": "base",
   "language": "python",
   "name": "python3"
  },
  "language_info": {
   "codemirror_mode": {
    "name": "ipython",
    "version": 3
   },
   "file_extension": ".py",
   "mimetype": "text/x-python",
   "name": "python",
   "nbconvert_exporter": "python",
   "pygments_lexer": "ipython3",
   "version": "3.9.7"
  }
 },
 "nbformat": 4,
 "nbformat_minor": 2
}
